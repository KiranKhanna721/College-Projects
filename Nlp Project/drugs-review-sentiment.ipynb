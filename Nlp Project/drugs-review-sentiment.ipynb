{
 "cells": [
  {
   "cell_type": "code",
   "execution_count": 1,
   "metadata": {
    "execution": {
     "iopub.execute_input": "2021-06-03T10:56:12.707722Z",
     "iopub.status.busy": "2021-06-03T10:56:12.707225Z",
     "iopub.status.idle": "2021-06-03T10:56:13.610041Z",
     "shell.execute_reply": "2021-06-03T10:56:13.609130Z",
     "shell.execute_reply.started": "2021-06-03T10:56:12.707618Z"
    }
   },
   "outputs": [],
   "source": [
    "import numpy as np\n",
    "import pandas as pd\n",
    "\n",
    "import matplotlib.pyplot as plt\n",
    "import seaborn as sns"
   ]
  },
  {
   "cell_type": "code",
   "execution_count": 2,
   "metadata": {
    "execution": {
     "iopub.execute_input": "2021-06-03T10:56:13.613969Z",
     "iopub.status.busy": "2021-06-03T10:56:13.613502Z",
     "iopub.status.idle": "2021-06-03T10:56:16.373952Z",
     "shell.execute_reply": "2021-06-03T10:56:16.372833Z",
     "shell.execute_reply.started": "2021-06-03T10:56:13.613924Z"
    }
   },
   "outputs": [],
   "source": [
    "train = pd.read_csv('drugsComTrain_raw.csv')\n",
    "test = pd.read_csv('drugsComTest_raw.csv')"
   ]
  },
  {
   "cell_type": "code",
   "execution_count": 3,
   "metadata": {
    "execution": {
     "iopub.execute_input": "2021-06-03T10:56:16.376221Z",
     "iopub.status.busy": "2021-06-03T10:56:16.375883Z",
     "iopub.status.idle": "2021-06-03T10:56:16.433743Z",
     "shell.execute_reply": "2021-06-03T10:56:16.432652Z",
     "shell.execute_reply.started": "2021-06-03T10:56:16.376189Z"
    }
   },
   "outputs": [
    {
     "data": {
      "text/html": [
       "<div>\n",
       "<style scoped>\n",
       "    .dataframe tbody tr th:only-of-type {\n",
       "        vertical-align: middle;\n",
       "    }\n",
       "\n",
       "    .dataframe tbody tr th {\n",
       "        vertical-align: top;\n",
       "    }\n",
       "\n",
       "    .dataframe thead th {\n",
       "        text-align: right;\n",
       "    }\n",
       "</style>\n",
       "<table border=\"1\" class=\"dataframe\">\n",
       "  <thead>\n",
       "    <tr style=\"text-align: right;\">\n",
       "      <th></th>\n",
       "      <th>uniqueID</th>\n",
       "      <th>drugName</th>\n",
       "      <th>condition</th>\n",
       "      <th>review</th>\n",
       "      <th>rating</th>\n",
       "      <th>date</th>\n",
       "      <th>usefulCount</th>\n",
       "    </tr>\n",
       "  </thead>\n",
       "  <tbody>\n",
       "    <tr>\n",
       "      <th>0</th>\n",
       "      <td>206461</td>\n",
       "      <td>Valsartan</td>\n",
       "      <td>Left Ventricular Dysfunction</td>\n",
       "      <td>\"It has no side effect, I take it in combinati...</td>\n",
       "      <td>9</td>\n",
       "      <td>20-May-12</td>\n",
       "      <td>27</td>\n",
       "    </tr>\n",
       "    <tr>\n",
       "      <th>1</th>\n",
       "      <td>95260</td>\n",
       "      <td>Guanfacine</td>\n",
       "      <td>ADHD</td>\n",
       "      <td>\"My son is halfway through his fourth week of ...</td>\n",
       "      <td>8</td>\n",
       "      <td>27-Apr-10</td>\n",
       "      <td>192</td>\n",
       "    </tr>\n",
       "    <tr>\n",
       "      <th>2</th>\n",
       "      <td>92703</td>\n",
       "      <td>Lybrel</td>\n",
       "      <td>Birth Control</td>\n",
       "      <td>\"I used to take another oral contraceptive, wh...</td>\n",
       "      <td>5</td>\n",
       "      <td>14-Dec-09</td>\n",
       "      <td>17</td>\n",
       "    </tr>\n",
       "    <tr>\n",
       "      <th>3</th>\n",
       "      <td>138000</td>\n",
       "      <td>Ortho Evra</td>\n",
       "      <td>Birth Control</td>\n",
       "      <td>\"This is my first time using any form of birth...</td>\n",
       "      <td>8</td>\n",
       "      <td>3-Nov-15</td>\n",
       "      <td>10</td>\n",
       "    </tr>\n",
       "    <tr>\n",
       "      <th>4</th>\n",
       "      <td>35696</td>\n",
       "      <td>Buprenorphine / naloxone</td>\n",
       "      <td>Opiate Dependence</td>\n",
       "      <td>\"Suboxone has completely turned my life around...</td>\n",
       "      <td>9</td>\n",
       "      <td>27-Nov-16</td>\n",
       "      <td>37</td>\n",
       "    </tr>\n",
       "  </tbody>\n",
       "</table>\n",
       "</div>"
      ],
      "text/plain": [
       "   uniqueID                  drugName                     condition  \\\n",
       "0    206461                 Valsartan  Left Ventricular Dysfunction   \n",
       "1     95260                Guanfacine                          ADHD   \n",
       "2     92703                    Lybrel                 Birth Control   \n",
       "3    138000                Ortho Evra                 Birth Control   \n",
       "4     35696  Buprenorphine / naloxone             Opiate Dependence   \n",
       "\n",
       "                                              review  rating       date  \\\n",
       "0  \"It has no side effect, I take it in combinati...       9  20-May-12   \n",
       "1  \"My son is halfway through his fourth week of ...       8  27-Apr-10   \n",
       "2  \"I used to take another oral contraceptive, wh...       5  14-Dec-09   \n",
       "3  \"This is my first time using any form of birth...       8   3-Nov-15   \n",
       "4  \"Suboxone has completely turned my life around...       9  27-Nov-16   \n",
       "\n",
       "   usefulCount  \n",
       "0           27  \n",
       "1          192  \n",
       "2           17  \n",
       "3           10  \n",
       "4           37  "
      ]
     },
     "execution_count": 3,
     "metadata": {},
     "output_type": "execute_result"
    }
   ],
   "source": [
    "df = pd.concat([train, test])\n",
    "df.head()"
   ]
  },
  {
   "cell_type": "code",
   "execution_count": 4,
   "metadata": {
    "execution": {
     "iopub.execute_input": "2021-06-03T10:56:16.436237Z",
     "iopub.status.busy": "2021-06-03T10:56:16.435755Z",
     "iopub.status.idle": "2021-06-03T10:56:16.531193Z",
     "shell.execute_reply": "2021-06-03T10:56:16.530075Z",
     "shell.execute_reply.started": "2021-06-03T10:56:16.436185Z"
    }
   },
   "outputs": [
    {
     "data": {
      "text/html": [
       "<div>\n",
       "<style scoped>\n",
       "    .dataframe tbody tr th:only-of-type {\n",
       "        vertical-align: middle;\n",
       "    }\n",
       "\n",
       "    .dataframe tbody tr th {\n",
       "        vertical-align: top;\n",
       "    }\n",
       "\n",
       "    .dataframe thead th {\n",
       "        text-align: right;\n",
       "    }\n",
       "</style>\n",
       "<table border=\"1\" class=\"dataframe\">\n",
       "  <thead>\n",
       "    <tr style=\"text-align: right;\">\n",
       "      <th></th>\n",
       "      <th>uniqueID</th>\n",
       "      <th>rating</th>\n",
       "      <th>usefulCount</th>\n",
       "    </tr>\n",
       "  </thead>\n",
       "  <tbody>\n",
       "    <tr>\n",
       "      <th>count</th>\n",
       "      <td>215063.000000</td>\n",
       "      <td>215063.000000</td>\n",
       "      <td>215063.000000</td>\n",
       "    </tr>\n",
       "    <tr>\n",
       "      <th>mean</th>\n",
       "      <td>116039.364814</td>\n",
       "      <td>6.990008</td>\n",
       "      <td>28.001004</td>\n",
       "    </tr>\n",
       "    <tr>\n",
       "      <th>std</th>\n",
       "      <td>67007.913366</td>\n",
       "      <td>3.275554</td>\n",
       "      <td>36.346069</td>\n",
       "    </tr>\n",
       "    <tr>\n",
       "      <th>min</th>\n",
       "      <td>0.000000</td>\n",
       "      <td>1.000000</td>\n",
       "      <td>0.000000</td>\n",
       "    </tr>\n",
       "    <tr>\n",
       "      <th>25%</th>\n",
       "      <td>58115.500000</td>\n",
       "      <td>5.000000</td>\n",
       "      <td>6.000000</td>\n",
       "    </tr>\n",
       "    <tr>\n",
       "      <th>50%</th>\n",
       "      <td>115867.000000</td>\n",
       "      <td>8.000000</td>\n",
       "      <td>16.000000</td>\n",
       "    </tr>\n",
       "    <tr>\n",
       "      <th>75%</th>\n",
       "      <td>173963.500000</td>\n",
       "      <td>10.000000</td>\n",
       "      <td>36.000000</td>\n",
       "    </tr>\n",
       "    <tr>\n",
       "      <th>max</th>\n",
       "      <td>232291.000000</td>\n",
       "      <td>10.000000</td>\n",
       "      <td>1291.000000</td>\n",
       "    </tr>\n",
       "  </tbody>\n",
       "</table>\n",
       "</div>"
      ],
      "text/plain": [
       "            uniqueID         rating    usefulCount\n",
       "count  215063.000000  215063.000000  215063.000000\n",
       "mean   116039.364814       6.990008      28.001004\n",
       "std     67007.913366       3.275554      36.346069\n",
       "min         0.000000       1.000000       0.000000\n",
       "25%     58115.500000       5.000000       6.000000\n",
       "50%    115867.000000       8.000000      16.000000\n",
       "75%    173963.500000      10.000000      36.000000\n",
       "max    232291.000000      10.000000    1291.000000"
      ]
     },
     "execution_count": 4,
     "metadata": {},
     "output_type": "execute_result"
    }
   ],
   "source": [
    "# describing the data\n",
    "\n",
    "df.describe()"
   ]
  },
  {
   "cell_type": "code",
   "execution_count": 5,
   "metadata": {
    "execution": {
     "iopub.execute_input": "2021-06-03T10:56:16.532687Z",
     "iopub.status.busy": "2021-06-03T10:56:16.532392Z",
     "iopub.status.idle": "2021-06-03T10:56:16.645514Z",
     "shell.execute_reply": "2021-06-03T10:56:16.644269Z",
     "shell.execute_reply.started": "2021-06-03T10:56:16.532659Z"
    }
   },
   "outputs": [
    {
     "name": "stdout",
     "output_type": "stream",
     "text": [
      "<class 'pandas.core.frame.DataFrame'>\n",
      "Int64Index: 215063 entries, 0 to 53765\n",
      "Data columns (total 7 columns):\n",
      " #   Column       Non-Null Count   Dtype \n",
      "---  ------       --------------   ----- \n",
      " 0   uniqueID     215063 non-null  int64 \n",
      " 1   drugName     215063 non-null  object\n",
      " 2   condition    213869 non-null  object\n",
      " 3   review       215063 non-null  object\n",
      " 4   rating       215063 non-null  int64 \n",
      " 5   date         215063 non-null  object\n",
      " 6   usefulCount  215063 non-null  int64 \n",
      "dtypes: int64(3), object(4)\n",
      "memory usage: 13.1+ MB\n"
     ]
    }
   ],
   "source": [
    "# taking out information from the data\n",
    "\n",
    "df.info()"
   ]
  },
  {
   "cell_type": "code",
   "execution_count": 6,
   "metadata": {
    "execution": {
     "iopub.execute_input": "2021-06-03T10:56:16.647152Z",
     "iopub.status.busy": "2021-06-03T10:56:16.646838Z",
     "iopub.status.idle": "2021-06-03T10:56:16.655430Z",
     "shell.execute_reply": "2021-06-03T10:56:16.653933Z",
     "shell.execute_reply.started": "2021-06-03T10:56:16.647122Z"
    }
   },
   "outputs": [
    {
     "data": {
      "text/plain": [
       "uniqueID        int64\n",
       "drugName       object\n",
       "condition      object\n",
       "review         object\n",
       "rating          int64\n",
       "date           object\n",
       "usefulCount     int64\n",
       "dtype: object"
      ]
     },
     "execution_count": 6,
     "metadata": {},
     "output_type": "execute_result"
    }
   ],
   "source": [
    "# get the datatype of columns\n",
    "\n",
    "df.dtypes"
   ]
  },
  {
   "cell_type": "code",
   "execution_count": 7,
   "metadata": {
    "execution": {
     "iopub.execute_input": "2021-06-03T10:56:16.657755Z",
     "iopub.status.busy": "2021-06-03T10:56:16.657172Z",
     "iopub.status.idle": "2021-06-03T10:56:16.761830Z",
     "shell.execute_reply": "2021-06-03T10:56:16.760742Z",
     "shell.execute_reply.started": "2021-06-03T10:56:16.657676Z"
    }
   },
   "outputs": [
    {
     "data": {
      "text/plain": [
       "uniqueID       False\n",
       "drugName       False\n",
       "condition       True\n",
       "review         False\n",
       "rating         False\n",
       "date           False\n",
       "usefulCount    False\n",
       "dtype: bool"
      ]
     },
     "execution_count": 7,
     "metadata": {},
     "output_type": "execute_result"
    }
   ],
   "source": [
    "# checking if the data contains any NULL values\n",
    "\n",
    "df.isnull().any()"
   ]
  },
  {
   "cell_type": "code",
   "execution_count": 8,
   "metadata": {
    "execution": {
     "iopub.execute_input": "2021-06-03T10:56:22.785970Z",
     "iopub.status.busy": "2021-06-03T10:56:22.785699Z",
     "iopub.status.idle": "2021-06-03T10:56:22.809535Z",
     "shell.execute_reply": "2021-06-03T10:56:22.808575Z",
     "shell.execute_reply.started": "2021-06-03T10:56:22.785943Z"
    }
   },
   "outputs": [
    {
     "data": {
      "text/plain": [
       "1.0    161491\n",
       "0.0     53572\n",
       "Name: Review_Sentiment, dtype: int64"
      ]
     },
     "execution_count": 8,
     "metadata": {},
     "output_type": "execute_result"
    }
   ],
   "source": [
    "# feature engineering \n",
    "# let's make a new column review sentiment \n",
    "\n",
    "df.loc[(df['rating'] >= 5), 'Review_Sentiment'] = 1\n",
    "df.loc[(df['rating'] < 5), 'Review_Sentiment'] = 0\n",
    "\n",
    "df['Review_Sentiment'].value_counts()"
   ]
  },
  {
   "cell_type": "code",
   "execution_count": 9,
   "metadata": {},
   "outputs": [
    {
     "data": {
      "text/html": [
       "<div>\n",
       "<style scoped>\n",
       "    .dataframe tbody tr th:only-of-type {\n",
       "        vertical-align: middle;\n",
       "    }\n",
       "\n",
       "    .dataframe tbody tr th {\n",
       "        vertical-align: top;\n",
       "    }\n",
       "\n",
       "    .dataframe thead th {\n",
       "        text-align: right;\n",
       "    }\n",
       "</style>\n",
       "<table border=\"1\" class=\"dataframe\">\n",
       "  <thead>\n",
       "    <tr style=\"text-align: right;\">\n",
       "      <th></th>\n",
       "      <th>uniqueID</th>\n",
       "      <th>drugName</th>\n",
       "      <th>condition</th>\n",
       "      <th>review</th>\n",
       "      <th>rating</th>\n",
       "      <th>date</th>\n",
       "      <th>usefulCount</th>\n",
       "      <th>Review_Sentiment</th>\n",
       "    </tr>\n",
       "  </thead>\n",
       "  <tbody>\n",
       "    <tr>\n",
       "      <th>0</th>\n",
       "      <td>206461</td>\n",
       "      <td>Valsartan</td>\n",
       "      <td>Left Ventricular Dysfunction</td>\n",
       "      <td>\"It has no side effect, I take it in combinati...</td>\n",
       "      <td>9</td>\n",
       "      <td>20-May-12</td>\n",
       "      <td>27</td>\n",
       "      <td>1.0</td>\n",
       "    </tr>\n",
       "    <tr>\n",
       "      <th>1</th>\n",
       "      <td>95260</td>\n",
       "      <td>Guanfacine</td>\n",
       "      <td>ADHD</td>\n",
       "      <td>\"My son is halfway through his fourth week of ...</td>\n",
       "      <td>8</td>\n",
       "      <td>27-Apr-10</td>\n",
       "      <td>192</td>\n",
       "      <td>1.0</td>\n",
       "    </tr>\n",
       "    <tr>\n",
       "      <th>2</th>\n",
       "      <td>92703</td>\n",
       "      <td>Lybrel</td>\n",
       "      <td>Birth Control</td>\n",
       "      <td>\"I used to take another oral contraceptive, wh...</td>\n",
       "      <td>5</td>\n",
       "      <td>14-Dec-09</td>\n",
       "      <td>17</td>\n",
       "      <td>1.0</td>\n",
       "    </tr>\n",
       "    <tr>\n",
       "      <th>3</th>\n",
       "      <td>138000</td>\n",
       "      <td>Ortho Evra</td>\n",
       "      <td>Birth Control</td>\n",
       "      <td>\"This is my first time using any form of birth...</td>\n",
       "      <td>8</td>\n",
       "      <td>3-Nov-15</td>\n",
       "      <td>10</td>\n",
       "      <td>1.0</td>\n",
       "    </tr>\n",
       "    <tr>\n",
       "      <th>4</th>\n",
       "      <td>35696</td>\n",
       "      <td>Buprenorphine / naloxone</td>\n",
       "      <td>Opiate Dependence</td>\n",
       "      <td>\"Suboxone has completely turned my life around...</td>\n",
       "      <td>9</td>\n",
       "      <td>27-Nov-16</td>\n",
       "      <td>37</td>\n",
       "      <td>1.0</td>\n",
       "    </tr>\n",
       "  </tbody>\n",
       "</table>\n",
       "</div>"
      ],
      "text/plain": [
       "   uniqueID                  drugName                     condition  \\\n",
       "0    206461                 Valsartan  Left Ventricular Dysfunction   \n",
       "1     95260                Guanfacine                          ADHD   \n",
       "2     92703                    Lybrel                 Birth Control   \n",
       "3    138000                Ortho Evra                 Birth Control   \n",
       "4     35696  Buprenorphine / naloxone             Opiate Dependence   \n",
       "\n",
       "                                              review  rating       date  \\\n",
       "0  \"It has no side effect, I take it in combinati...       9  20-May-12   \n",
       "1  \"My son is halfway through his fourth week of ...       8  27-Apr-10   \n",
       "2  \"I used to take another oral contraceptive, wh...       5  14-Dec-09   \n",
       "3  \"This is my first time using any form of birth...       8   3-Nov-15   \n",
       "4  \"Suboxone has completely turned my life around...       9  27-Nov-16   \n",
       "\n",
       "   usefulCount  Review_Sentiment  \n",
       "0           27               1.0  \n",
       "1          192               1.0  \n",
       "2           17               1.0  \n",
       "3           10               1.0  \n",
       "4           37               1.0  "
      ]
     },
     "execution_count": 9,
     "metadata": {},
     "output_type": "execute_result"
    }
   ],
   "source": [
    "df.head()"
   ]
  },
  {
   "cell_type": "code",
   "execution_count": 10,
   "metadata": {
    "execution": {
     "iopub.execute_input": "2021-06-03T10:57:22.693715Z",
     "iopub.status.busy": "2021-06-03T10:57:22.693375Z",
     "iopub.status.idle": "2021-06-03T10:57:38.361895Z",
     "shell.execute_reply": "2021-06-03T10:57:38.360850Z",
     "shell.execute_reply.started": "2021-06-03T10:57:22.693682Z"
    }
   },
   "outputs": [],
   "source": [
    "# converting the date into datetime format\n",
    "df['date'] = pd.to_datetime(df['date'], errors = 'coerce')\n",
    "\n",
    "# now extracting year from date\n",
    "df['Year'] = df['date'].dt.year\n",
    "\n",
    "# extracting the month from the date\n",
    "df['month'] = df['date'].dt.month\n",
    "\n",
    "# extracting the days from the date\n",
    "df['day'] = df['date'].dt.day"
   ]
  },
  {
   "cell_type": "code",
   "execution_count": 11,
   "metadata": {
    "execution": {
     "iopub.execute_input": "2021-06-03T10:57:40.630542Z",
     "iopub.status.busy": "2021-06-03T10:57:40.630082Z",
     "iopub.status.idle": "2021-06-03T10:57:40.637889Z",
     "shell.execute_reply": "2021-06-03T10:57:40.636701Z",
     "shell.execute_reply.started": "2021-06-03T10:57:40.630484Z"
    }
   },
   "outputs": [],
   "source": [
    "def review_clean(review): \n",
    "    # changing to lower case\n",
    "    lower = review.str.lower()\n",
    "    \n",
    "    # Replacing the repeating pattern of &#039;\n",
    "    pattern_remove = lower.str.replace(\"&#039;\", \"\")\n",
    "    \n",
    "    # Removing all the special Characters\n",
    "    special_remove = pattern_remove.str.replace(r'[^\\w\\d\\s]',' ')\n",
    "    \n",
    "    # Removing all the non ASCII characters\n",
    "    ascii_remove = special_remove.str.replace(r'[^\\x00-\\x7F]+',' ')\n",
    "    \n",
    "    # Removing the leading and trailing Whitespaces\n",
    "    whitespace_remove = ascii_remove.str.replace(r'^\\s+|\\s+?$','')\n",
    "    \n",
    "    # Replacing multiple Spaces with Single Space\n",
    "    multiw_remove = whitespace_remove.str.replace(r'\\s+',' ')\n",
    "    \n",
    "    # Replacing Two or more dots with one\n",
    "    dataframe = multiw_remove.str.replace(r'\\.{2,}', ' ')\n",
    "    \n",
    "    return dataframe"
   ]
  },
  {
   "cell_type": "code",
   "execution_count": 12,
   "metadata": {
    "execution": {
     "iopub.execute_input": "2021-06-03T10:57:40.640121Z",
     "iopub.status.busy": "2021-06-03T10:57:40.639746Z",
     "iopub.status.idle": "2021-06-03T10:58:10.143769Z",
     "shell.execute_reply": "2021-06-03T10:58:10.142898Z",
     "shell.execute_reply.started": "2021-06-03T10:57:40.640087Z"
    }
   },
   "outputs": [
    {
     "name": "stderr",
     "output_type": "stream",
     "text": [
      "C:\\Users\\khkir\\AppData\\Local\\Temp/ipykernel_22632/3584754075.py:9: FutureWarning: The default value of regex will change from True to False in a future version.\n",
      "  special_remove = pattern_remove.str.replace(r'[^\\w\\d\\s]',' ')\n",
      "C:\\Users\\khkir\\AppData\\Local\\Temp/ipykernel_22632/3584754075.py:12: FutureWarning: The default value of regex will change from True to False in a future version.\n",
      "  ascii_remove = special_remove.str.replace(r'[^\\x00-\\x7F]+',' ')\n",
      "C:\\Users\\khkir\\AppData\\Local\\Temp/ipykernel_22632/3584754075.py:15: FutureWarning: The default value of regex will change from True to False in a future version.\n",
      "  whitespace_remove = ascii_remove.str.replace(r'^\\s+|\\s+?$','')\n",
      "C:\\Users\\khkir\\AppData\\Local\\Temp/ipykernel_22632/3584754075.py:18: FutureWarning: The default value of regex will change from True to False in a future version.\n",
      "  multiw_remove = whitespace_remove.str.replace(r'\\s+',' ')\n",
      "C:\\Users\\khkir\\AppData\\Local\\Temp/ipykernel_22632/3584754075.py:21: FutureWarning: The default value of regex will change from True to False in a future version.\n",
      "  dataframe = multiw_remove.str.replace(r'\\.{2,}', ' ')\n"
     ]
    }
   ],
   "source": [
    "df['review_clean'] = review_clean(df['review'])"
   ]
  },
  {
   "cell_type": "code",
   "execution_count": 13,
   "metadata": {
    "execution": {
     "iopub.execute_input": "2021-06-03T10:58:10.145255Z",
     "iopub.status.busy": "2021-06-03T10:58:10.144861Z",
     "iopub.status.idle": "2021-06-03T10:58:15.051861Z",
     "shell.execute_reply": "2021-06-03T10:58:15.050825Z",
     "shell.execute_reply.started": "2021-06-03T10:58:10.145225Z"
    }
   },
   "outputs": [],
   "source": [
    "from textblob import TextBlob\n",
    "from nltk.corpus import stopwords\n",
    "from collections import Counter\n",
    "import warnings; warnings.simplefilter('ignore')\n",
    "import nltk\n",
    "import string\n",
    "from nltk import ngrams\n",
    "from nltk.tokenize import word_tokenize \n",
    "from nltk.stem import SnowballStemmer\n",
    "\n",
    "# Removing the stopwords\n",
    "stop_words = set(stopwords.words('english'))\n",
    "df['review_clean'] = df['review_clean'].apply(lambda x: ' '.join(word for word in x.split() if word not in stop_words))"
   ]
  },
  {
   "cell_type": "code",
   "execution_count": 14,
   "metadata": {
    "execution": {
     "iopub.execute_input": "2021-06-03T10:58:15.053625Z",
     "iopub.status.busy": "2021-06-03T10:58:15.053267Z",
     "iopub.status.idle": "2021-06-03T11:00:49.228929Z",
     "shell.execute_reply": "2021-06-03T11:00:49.227946Z",
     "shell.execute_reply.started": "2021-06-03T10:58:15.053589Z"
    }
   },
   "outputs": [],
   "source": [
    "# Removing the word stems using the Snowball Stemmer\n",
    "Snow_ball = SnowballStemmer(\"english\")\n",
    "df['review_clean'] = df['review_clean'].apply(lambda x: \" \".join(Snow_ball.stem(word) for word in x.split()))"
   ]
  },
  {
   "cell_type": "code",
   "execution_count": 15,
   "metadata": {
    "execution": {
     "iopub.execute_input": "2021-06-03T11:00:49.230637Z",
     "iopub.status.busy": "2021-06-03T11:00:49.230320Z",
     "iopub.status.idle": "2021-06-03T11:00:49.247863Z",
     "shell.execute_reply": "2021-06-03T11:00:49.246591Z",
     "shell.execute_reply.started": "2021-06-03T11:00:49.230606Z"
    }
   },
   "outputs": [
    {
     "data": {
      "text/html": [
       "<div>\n",
       "<style scoped>\n",
       "    .dataframe tbody tr th:only-of-type {\n",
       "        vertical-align: middle;\n",
       "    }\n",
       "\n",
       "    .dataframe tbody tr th {\n",
       "        vertical-align: top;\n",
       "    }\n",
       "\n",
       "    .dataframe thead th {\n",
       "        text-align: right;\n",
       "    }\n",
       "</style>\n",
       "<table border=\"1\" class=\"dataframe\">\n",
       "  <thead>\n",
       "    <tr style=\"text-align: right;\">\n",
       "      <th></th>\n",
       "      <th>uniqueID</th>\n",
       "      <th>drugName</th>\n",
       "      <th>condition</th>\n",
       "      <th>review</th>\n",
       "      <th>rating</th>\n",
       "      <th>date</th>\n",
       "      <th>usefulCount</th>\n",
       "      <th>Review_Sentiment</th>\n",
       "      <th>Year</th>\n",
       "      <th>month</th>\n",
       "      <th>day</th>\n",
       "      <th>review_clean</th>\n",
       "    </tr>\n",
       "  </thead>\n",
       "  <tbody>\n",
       "    <tr>\n",
       "      <th>0</th>\n",
       "      <td>206461</td>\n",
       "      <td>Valsartan</td>\n",
       "      <td>Left Ventricular Dysfunction</td>\n",
       "      <td>\"It has no side effect, I take it in combinati...</td>\n",
       "      <td>9</td>\n",
       "      <td>2012-05-20</td>\n",
       "      <td>27</td>\n",
       "      <td>1.0</td>\n",
       "      <td>2012</td>\n",
       "      <td>5</td>\n",
       "      <td>20</td>\n",
       "      <td>side effect take combin bystol 5 mg fish oil</td>\n",
       "    </tr>\n",
       "    <tr>\n",
       "      <th>1</th>\n",
       "      <td>95260</td>\n",
       "      <td>Guanfacine</td>\n",
       "      <td>ADHD</td>\n",
       "      <td>\"My son is halfway through his fourth week of ...</td>\n",
       "      <td>8</td>\n",
       "      <td>2010-04-27</td>\n",
       "      <td>192</td>\n",
       "      <td>1.0</td>\n",
       "      <td>2010</td>\n",
       "      <td>4</td>\n",
       "      <td>27</td>\n",
       "      <td>son halfway fourth week intuniv becam concern ...</td>\n",
       "    </tr>\n",
       "    <tr>\n",
       "      <th>2</th>\n",
       "      <td>92703</td>\n",
       "      <td>Lybrel</td>\n",
       "      <td>Birth Control</td>\n",
       "      <td>\"I used to take another oral contraceptive, wh...</td>\n",
       "      <td>5</td>\n",
       "      <td>2009-12-14</td>\n",
       "      <td>17</td>\n",
       "      <td>1.0</td>\n",
       "      <td>2009</td>\n",
       "      <td>12</td>\n",
       "      <td>14</td>\n",
       "      <td>use take anoth oral contracept 21 pill cycl ha...</td>\n",
       "    </tr>\n",
       "  </tbody>\n",
       "</table>\n",
       "</div>"
      ],
      "text/plain": [
       "   uniqueID    drugName                     condition  \\\n",
       "0    206461   Valsartan  Left Ventricular Dysfunction   \n",
       "1     95260  Guanfacine                          ADHD   \n",
       "2     92703      Lybrel                 Birth Control   \n",
       "\n",
       "                                              review  rating       date  \\\n",
       "0  \"It has no side effect, I take it in combinati...       9 2012-05-20   \n",
       "1  \"My son is halfway through his fourth week of ...       8 2010-04-27   \n",
       "2  \"I used to take another oral contraceptive, wh...       5 2009-12-14   \n",
       "\n",
       "   usefulCount  Review_Sentiment  Year  month  day  \\\n",
       "0           27               1.0  2012      5   20   \n",
       "1          192               1.0  2010      4   27   \n",
       "2           17               1.0  2009     12   14   \n",
       "\n",
       "                                        review_clean  \n",
       "0       side effect take combin bystol 5 mg fish oil  \n",
       "1  son halfway fourth week intuniv becam concern ...  \n",
       "2  use take anoth oral contracept 21 pill cycl ha...  "
      ]
     },
     "execution_count": 15,
     "metadata": {},
     "output_type": "execute_result"
    }
   ],
   "source": [
    "df.head(3)"
   ]
  },
  {
   "cell_type": "code",
   "execution_count": 16,
   "metadata": {},
   "outputs": [],
   "source": [
    "def sentiment(review):\n",
    "    # Sentiment polarity of the reviews\n",
    "    pol = []\n",
    "    for i in review:\n",
    "        analysis = TextBlob(i)\n",
    "        pol.append(analysis.sentiment.polarity)\n",
    "    return pol"
   ]
  },
  {
   "cell_type": "code",
   "execution_count": 17,
   "metadata": {
    "execution": {
     "iopub.execute_input": "2021-06-03T11:00:49.261484Z",
     "iopub.status.busy": "2021-06-03T11:00:49.261026Z",
     "iopub.status.idle": "2021-06-03T11:03:48.223502Z",
     "shell.execute_reply": "2021-06-03T11:03:48.222426Z",
     "shell.execute_reply.started": "2021-06-03T11:00:49.261437Z"
    }
   },
   "outputs": [],
   "source": [
    "df['sentiment'] = sentiment(df['review'])"
   ]
  },
  {
   "cell_type": "code",
   "execution_count": 18,
   "metadata": {
    "execution": {
     "iopub.execute_input": "2021-06-03T11:03:48.225072Z",
     "iopub.status.busy": "2021-06-03T11:03:48.224783Z",
     "iopub.status.idle": "2021-06-03T11:05:29.518678Z",
     "shell.execute_reply": "2021-06-03T11:05:29.517590Z",
     "shell.execute_reply.started": "2021-06-03T11:03:48.225045Z"
    }
   },
   "outputs": [],
   "source": [
    "df['sentiment_clean'] = sentiment(df['review_clean'])"
   ]
  },
  {
   "cell_type": "code",
   "execution_count": 19,
   "metadata": {
    "execution": {
     "iopub.execute_input": "2021-06-03T11:05:29.520245Z",
     "iopub.status.busy": "2021-06-03T11:05:29.519942Z",
     "iopub.status.idle": "2021-06-03T11:08:35.839342Z",
     "shell.execute_reply": "2021-06-03T11:08:35.838310Z",
     "shell.execute_reply.started": "2021-06-03T11:05:29.520215Z"
    }
   },
   "outputs": [],
   "source": [
    "# Cleaning the reviews without removing the stop words and using snowball stemmer\n",
    "df['review_clean_ss'] = review_clean(df['review'])\n",
    "df['sentiment_clean_ss'] = sentiment(df['review_clean_ss'])"
   ]
  },
  {
   "cell_type": "code",
   "execution_count": 20,
   "metadata": {
    "execution": {
     "iopub.execute_input": "2021-06-03T11:08:35.840992Z",
     "iopub.status.busy": "2021-06-03T11:08:35.840673Z",
     "iopub.status.idle": "2021-06-03T11:08:36.062998Z",
     "shell.execute_reply": "2021-06-03T11:08:36.061965Z",
     "shell.execute_reply.started": "2021-06-03T11:08:35.840959Z"
    }
   },
   "outputs": [],
   "source": [
    "df = df.dropna(how=\"any\", axis=0)"
   ]
  },
  {
   "cell_type": "code",
   "execution_count": 21,
   "metadata": {
    "execution": {
     "iopub.execute_input": "2021-06-03T11:08:36.064694Z",
     "iopub.status.busy": "2021-06-03T11:08:36.064380Z",
     "iopub.status.idle": "2021-06-03T11:09:05.713044Z",
     "shell.execute_reply": "2021-06-03T11:09:05.711968Z",
     "shell.execute_reply.started": "2021-06-03T11:08:36.064662Z"
    }
   },
   "outputs": [],
   "source": [
    "\n",
    "#Word count in each review\n",
    "df['count_word']=df[\"review_clean_ss\"].apply(lambda x: len(str(x).split()))\n",
    "\n",
    "#Unique word count \n",
    "df['count_unique_word']=df[\"review_clean_ss\"].apply(lambda x: len(set(str(x).split())))\n",
    "\n",
    "#Letter count\n",
    "df['count_letters']=df[\"review_clean_ss\"].apply(lambda x: len(str(x)))\n",
    "\n",
    "#punctuation count\n",
    "df[\"count_punctuations\"] = df[\"review\"].apply(lambda x: len([c for c in str(x) if c in string.punctuation]))\n",
    "\n",
    "#upper case words count\n",
    "df[\"count_words_upper\"] = df[\"review\"].apply(lambda x: len([w for w in str(x).split() if w.isupper()]))\n",
    "\n",
    "#title case words count\n",
    "df[\"count_words_title\"] = df[\"review\"].apply(lambda x: len([w for w in str(x).split() if w.istitle()]))\n",
    "\n",
    "#Number of stopwords\n",
    "df[\"count_stopwords\"] = df[\"review\"].apply(lambda x: len([w for w in str(x).lower().split() if w in stop_words]))\n",
    "\n",
    "#Average length of the words\n",
    "df[\"mean_word_len\"] = df[\"review_clean_ss\"].apply(lambda x: np.mean([len(w) for w in str(x).split()]))"
   ]
  },
  {
   "cell_type": "code",
   "execution_count": 22,
   "metadata": {
    "execution": {
     "iopub.execute_input": "2021-06-03T11:09:05.714713Z",
     "iopub.status.busy": "2021-06-03T11:09:05.714370Z",
     "iopub.status.idle": "2021-06-03T11:09:05.721134Z",
     "shell.execute_reply": "2021-06-03T11:09:05.720172Z",
     "shell.execute_reply.started": "2021-06-03T11:09:05.714682Z"
    }
   },
   "outputs": [
    {
     "data": {
      "text/plain": [
       "Index(['uniqueID', 'drugName', 'condition', 'review', 'rating', 'date',\n",
       "       'usefulCount', 'Review_Sentiment', 'Year', 'month', 'day',\n",
       "       'review_clean', 'sentiment', 'sentiment_clean', 'review_clean_ss',\n",
       "       'sentiment_clean_ss', 'count_word', 'count_unique_word',\n",
       "       'count_letters', 'count_punctuations', 'count_words_upper',\n",
       "       'count_words_title', 'count_stopwords', 'mean_word_len'],\n",
       "      dtype='object')"
      ]
     },
     "execution_count": 22,
     "metadata": {},
     "output_type": "execute_result"
    }
   ],
   "source": [
    "df.columns"
   ]
  },
  {
   "cell_type": "code",
   "execution_count": 23,
   "metadata": {
    "execution": {
     "iopub.execute_input": "2021-06-03T11:09:05.723026Z",
     "iopub.status.busy": "2021-06-03T11:09:05.722646Z",
     "iopub.status.idle": "2021-06-03T11:09:07.062920Z",
     "shell.execute_reply": "2021-06-03T11:09:07.062161Z",
     "shell.execute_reply.started": "2021-06-03T11:09:05.722992Z"
    }
   },
   "outputs": [
    {
     "data": {
      "image/png": "[encoded data removed]",
      "text/plain": [
       "<Figure size 1224x1080 with 2 Axes>"
      ]
     },
     "metadata": {},
     "output_type": "display_data"
    }
   ],
   "source": [
    "# Correlation Heatmap of the features engineered\n",
    "plt.rcParams['figure.figsize'] = [17,15]\n",
    "sns.set(font_scale = 1.2)\n",
    "corr = df.select_dtypes(include = 'int64').corr()\n",
    "sns_ = sns.heatmap(corr, annot = True, cmap = 'Wistia')\n",
    "plt.setp(sns_.get_xticklabels(), rotation = 45);"
   ]
  },
  {
   "cell_type": "code",
   "execution_count": 24,
   "metadata": {},
   "outputs": [
    {
     "name": "stdout",
     "output_type": "stream",
     "text": [
      "Shape of train: (160401, 24)\n",
      "Shape of test:  (53468, 24)\n"
     ]
    }
   ],
   "source": [
    "from sklearn.model_selection import train_test_split\n",
    "\n",
    "df_train, df_test = train_test_split(df, test_size = 0.25, random_state = 0)\n",
    "\n",
    "# checking the shape \n",
    "print(\"Shape of train:\", df_train.shape)\n",
    "print(\"Shape of test: \", df_test.shape)"
   ]
  },
  {
   "cell_type": "code",
   "execution_count": 25,
   "metadata": {},
   "outputs": [],
   "source": [
    "y_train = df_train['Review_Sentiment']\n",
    "y_test = df_test['Review_Sentiment']\n",
    "solution = y_test.copy()"
   ]
  },
  {
   "cell_type": "code",
   "execution_count": 26,
   "metadata": {
    "execution": {
     "iopub.execute_input": "2021-06-03T11:09:07.064368Z",
     "iopub.status.busy": "2021-06-03T11:09:07.063950Z",
     "iopub.status.idle": "2021-06-03T11:09:07.278461Z",
     "shell.execute_reply": "2021-06-03T11:09:07.277677Z",
     "shell.execute_reply.started": "2021-06-03T11:09:07.064329Z"
    }
   },
   "outputs": [],
   "source": [
    "\n",
    "# Label Encoding Drugname and Conditions\n",
    "from sklearn.preprocessing import LabelEncoder\n",
    "label_encoder_feat = {}\n",
    "for feature in ['drugName', 'condition']:\n",
    "    label_encoder_feat[feature] = LabelEncoder()\n",
    "    df[feature] = label_encoder_feat[feature].fit_transform(df[feature])"
   ]
  },
  {
   "cell_type": "code",
   "execution_count": 27,
   "metadata": {
    "execution": {
     "iopub.execute_input": "2021-06-03T11:09:08.410802Z",
     "iopub.status.busy": "2021-06-03T11:09:08.410511Z",
     "iopub.status.idle": "2021-06-03T11:09:08.482703Z",
     "shell.execute_reply": "2021-06-03T11:09:08.481667Z",
     "shell.execute_reply.started": "2021-06-03T11:09:08.410773Z"
    }
   },
   "outputs": [
    {
     "name": "stdout",
     "output_type": "stream",
     "text": [
      "The Train set size  (149708, 15)\n",
      "The Test set size  (64161, 15)\n"
     ]
    }
   ],
   "source": [
    "# Defining Features and splitting the data as train and test set\n",
    "features = df[['condition', 'usefulCount', 'sentiment', 'day', 'month', 'Year',\n",
    "                   'sentiment_clean_ss', 'count_word', 'count_unique_word', 'count_letters',\n",
    "                   'count_punctuations', 'count_words_upper', 'count_words_title',\n",
    "                   'count_stopwords', 'mean_word_len']]\n",
    "\n",
    "target = df['Review_Sentiment']\n",
    "\n",
    "X_train, X_test, y_train, y_test = train_test_split(features, target, test_size = 0.3, random_state = 42)\n",
    "print (\"The Train set size \", X_train.shape)\n",
    "print (\"The Test set size \", X_test.shape)\n"
   ]
  },
  {
   "cell_type": "code",
   "execution_count": 28,
   "metadata": {
    "execution": {
     "iopub.execute_input": "2021-06-03T11:09:07.280030Z",
     "iopub.status.busy": "2021-06-03T11:09:07.279599Z",
     "iopub.status.idle": "2021-06-03T11:09:08.409350Z",
     "shell.execute_reply": "2021-06-03T11:09:08.408532Z",
     "shell.execute_reply.started": "2021-06-03T11:09:07.279986Z"
    }
   },
   "outputs": [],
   "source": [
    "# Importing Libraries for the Machine Learning Model\n",
    "from xgboost import XGBClassifier\n",
    "from lightgbm import LGBMModel,LGBMClassifier, plot_importance\n",
    "from sklearn.metrics import confusion_matrix, accuracy_score, classification_report\n",
    "from sklearn.model_selection import train_test_split"
   ]
  },
  {
   "cell_type": "code",
   "execution_count": 29,
   "metadata": {},
   "outputs": [
    {
     "data": {
      "text/html": [
       "<div>\n",
       "<style scoped>\n",
       "    .dataframe tbody tr th:only-of-type {\n",
       "        vertical-align: middle;\n",
       "    }\n",
       "\n",
       "    .dataframe tbody tr th {\n",
       "        vertical-align: top;\n",
       "    }\n",
       "\n",
       "    .dataframe thead th {\n",
       "        text-align: right;\n",
       "    }\n",
       "</style>\n",
       "<table border=\"1\" class=\"dataframe\">\n",
       "  <thead>\n",
       "    <tr style=\"text-align: right;\">\n",
       "      <th></th>\n",
       "      <th>condition</th>\n",
       "      <th>usefulCount</th>\n",
       "      <th>sentiment</th>\n",
       "      <th>day</th>\n",
       "      <th>month</th>\n",
       "      <th>Year</th>\n",
       "      <th>sentiment_clean_ss</th>\n",
       "      <th>count_word</th>\n",
       "      <th>count_unique_word</th>\n",
       "      <th>count_letters</th>\n",
       "      <th>count_punctuations</th>\n",
       "      <th>count_words_upper</th>\n",
       "      <th>count_words_title</th>\n",
       "      <th>count_stopwords</th>\n",
       "      <th>mean_word_len</th>\n",
       "    </tr>\n",
       "  </thead>\n",
       "  <tbody>\n",
       "    <tr>\n",
       "      <th>10159</th>\n",
       "      <td>176</td>\n",
       "      <td>19</td>\n",
       "      <td>0.000000</td>\n",
       "      <td>14</td>\n",
       "      <td>7</td>\n",
       "      <td>2016</td>\n",
       "      <td>0.000000</td>\n",
       "      <td>45</td>\n",
       "      <td>37</td>\n",
       "      <td>229</td>\n",
       "      <td>7</td>\n",
       "      <td>3</td>\n",
       "      <td>5</td>\n",
       "      <td>23</td>\n",
       "      <td>4.111111</td>\n",
       "    </tr>\n",
       "    <tr>\n",
       "      <th>38860</th>\n",
       "      <td>175</td>\n",
       "      <td>11</td>\n",
       "      <td>-0.064286</td>\n",
       "      <td>23</td>\n",
       "      <td>3</td>\n",
       "      <td>2016</td>\n",
       "      <td>-0.118750</td>\n",
       "      <td>66</td>\n",
       "      <td>54</td>\n",
       "      <td>356</td>\n",
       "      <td>30</td>\n",
       "      <td>0</td>\n",
       "      <td>2</td>\n",
       "      <td>25</td>\n",
       "      <td>4.409091</td>\n",
       "    </tr>\n",
       "    <tr>\n",
       "      <th>137821</th>\n",
       "      <td>175</td>\n",
       "      <td>14</td>\n",
       "      <td>-0.073672</td>\n",
       "      <td>14</td>\n",
       "      <td>5</td>\n",
       "      <td>2015</td>\n",
       "      <td>-0.073672</td>\n",
       "      <td>140</td>\n",
       "      <td>96</td>\n",
       "      <td>736</td>\n",
       "      <td>18</td>\n",
       "      <td>8</td>\n",
       "      <td>10</td>\n",
       "      <td>67</td>\n",
       "      <td>4.264286</td>\n",
       "    </tr>\n",
       "    <tr>\n",
       "      <th>85684</th>\n",
       "      <td>535</td>\n",
       "      <td>13</td>\n",
       "      <td>0.250000</td>\n",
       "      <td>12</td>\n",
       "      <td>2</td>\n",
       "      <td>2017</td>\n",
       "      <td>0.064286</td>\n",
       "      <td>82</td>\n",
       "      <td>68</td>\n",
       "      <td>448</td>\n",
       "      <td>16</td>\n",
       "      <td>5</td>\n",
       "      <td>6</td>\n",
       "      <td>30</td>\n",
       "      <td>4.475610</td>\n",
       "    </tr>\n",
       "    <tr>\n",
       "      <th>23173</th>\n",
       "      <td>225</td>\n",
       "      <td>33</td>\n",
       "      <td>-0.055556</td>\n",
       "      <td>6</td>\n",
       "      <td>9</td>\n",
       "      <td>2015</td>\n",
       "      <td>-0.055556</td>\n",
       "      <td>38</td>\n",
       "      <td>31</td>\n",
       "      <td>188</td>\n",
       "      <td>9</td>\n",
       "      <td>1</td>\n",
       "      <td>2</td>\n",
       "      <td>19</td>\n",
       "      <td>3.973684</td>\n",
       "    </tr>\n",
       "  </tbody>\n",
       "</table>\n",
       "</div>"
      ],
      "text/plain": [
       "        condition  usefulCount  sentiment  day  month  Year  \\\n",
       "10159         176           19   0.000000   14      7  2016   \n",
       "38860         175           11  -0.064286   23      3  2016   \n",
       "137821        175           14  -0.073672   14      5  2015   \n",
       "85684         535           13   0.250000   12      2  2017   \n",
       "23173         225           33  -0.055556    6      9  2015   \n",
       "\n",
       "        sentiment_clean_ss  count_word  count_unique_word  count_letters  \\\n",
       "10159             0.000000          45                 37            229   \n",
       "38860            -0.118750          66                 54            356   \n",
       "137821           -0.073672         140                 96            736   \n",
       "85684             0.064286          82                 68            448   \n",
       "23173            -0.055556          38                 31            188   \n",
       "\n",
       "        count_punctuations  count_words_upper  count_words_title  \\\n",
       "10159                    7                  3                  5   \n",
       "38860                   30                  0                  2   \n",
       "137821                  18                  8                 10   \n",
       "85684                   16                  5                  6   \n",
       "23173                    9                  1                  2   \n",
       "\n",
       "        count_stopwords  mean_word_len  \n",
       "10159                23       4.111111  \n",
       "38860                25       4.409091  \n",
       "137821               67       4.264286  \n",
       "85684                30       4.475610  \n",
       "23173                19       3.973684  "
      ]
     },
     "execution_count": 29,
     "metadata": {},
     "output_type": "execute_result"
    }
   ],
   "source": [
    "X_train.head()"
   ]
  },
  {
   "cell_type": "code",
   "execution_count": null,
   "metadata": {
    "execution": {
     "iopub.execute_input": "2021-06-03T11:09:08.484568Z",
     "iopub.status.busy": "2021-06-03T11:09:08.484150Z",
     "iopub.status.idle": "2021-06-03T11:10:33.451024Z",
     "shell.execute_reply": "2021-06-03T11:10:33.450187Z",
     "shell.execute_reply.started": "2021-06-03T11:09:08.484523Z"
    }
   },
   "outputs": [],
   "source": [
    "# Training Model - I\n",
    "clf = LGBMClassifier(\n",
    "        n_estimators=10000,\n",
    "        learning_rate=0.10,\n",
    "        num_leaves=30,\n",
    "        subsample=.9,\n",
    "        max_depth=7,\n",
    "        reg_alpha=.1,\n",
    "        reg_lambda=.1,\n",
    "        min_split_gain=.01,\n",
    "        min_child_weight=2,\n",
    "        silent=-1,\n",
    "        verbose=-1,\n",
    "        )\n",
    "model = clf.fit(X_train, y_train)\n",
    "\n",
    "# Predictions\n",
    "predictions = model.predict(X_test)\n",
    "print (\"The Accuracy of the model is : \", accuracy_score(y_test, predictions))\n",
    "print (\"The confusion Matrix is \")\n",
    "confusion_matrix(y_test, predictions)"
   ]
  },
  {
   "cell_type": "code",
   "execution_count": null,
   "metadata": {},
   "outputs": [],
   "source": [
    "import pickle\n",
    "lgb_out = open('lgb.pkl','wb')\n",
    "pickle.dump(model,lgb_out)\n",
    "lgb_out.close()"
   ]
  },
  {
   "cell_type": "code",
   "execution_count": null,
   "metadata": {},
   "outputs": [],
   "source": [
    "clf_xg = XGBClassifier()\n",
    "clf_xg.fit(X_train, y_train)\n",
    "predictions = clf_xg.predict(X_test)\n",
    "print (\"The Accuracy of the model is : \", accuracy_score(y_test, predictions))\n",
    "print (\"The confusion Matrix is \")\n",
    "confusion_matrix(y_test, predictions)"
   ]
  },
  {
   "cell_type": "code",
   "execution_count": null,
   "metadata": {},
   "outputs": [],
   "source": [
    "import pickle\n",
    "clf_out = open('clf.pkl','wb')\n",
    "pickle.dump(clf_xg,clf_out)\n",
    "clf_out.close()"
   ]
  },
  {
   "cell_type": "code",
   "execution_count": null,
   "metadata": {},
   "outputs": [],
   "source": []
  }
 ],
 "metadata": {
  "kernelspec": {
   "display_name": "Python 3 (ipykernel)",
   "language": "python",
   "name": "python3"
  },
  "language_info": {
   "codemirror_mode": {
    "name": "ipython",
    "version": 3
   },
   "file_extension": ".py",
   "mimetype": "text/x-python",
   "name": "python",
   "nbconvert_exporter": "python",
   "pygments_lexer": "ipython3",
   "version": "3.9.7"
  }
 },
 "nbformat": 4,
 "nbformat_minor": 4
}
